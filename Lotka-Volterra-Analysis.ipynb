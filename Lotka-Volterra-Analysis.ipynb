{
 "cells": [
  {
   "cell_type": "markdown",
   "metadata": {},
   "source": [
    "# Analysis of a Dynamical Systems : Lotka - Volterra\n",
    "\n",
    "see http://scipy-cookbook.readthedocs.io/ (ODE section) for more"
   ]
  },
  {
   "cell_type": "code",
   "execution_count": 1,
   "metadata": {},
   "outputs": [],
   "source": [
    "from scipy.integrate import odeint\n",
    "import numpy as np\n",
    "import pandas as pd\n",
    "import matplotlib.pyplot as plt\n",
    "import scipy.optimize as optimize\n",
    "\n",
    "# For those of you interested.... \n",
    "# There is a notebook backend way to render figures....\n",
    "\n",
    "# %matplotlib notebook\n",
    "# # using notebook backend to render figures\n",
    "# # see here for more tips:\n",
    "# # - https://stackoverflow.com/questions/41125690/matplotlib-notebook-showing-a-blank-histogram\n",
    "# # - https://stackoverflow.com/questions/43445103/inline-animations-in-jupyter\n",
    "\n",
    "\n",
    "\n",
    "\n",
    "%matplotlib inline\n",
    "# this line renders the images as png \n",
    "# - works well for static plots (recommended then)\n",
    "# - does not work with animations (will only show last frame)"
   ]
  },
  {
   "cell_type": "code",
   "execution_count": 2,
   "metadata": {},
   "outputs": [],
   "source": [
    "import warnings\n",
    "warnings.simplefilter(\"ignore\", DeprecationWarning)\n",
    "warnings.simplefilter(\"ignore\", RuntimeWarning)\n",
    "# Just to make it cleaner I do not print some of the warnings \n",
    "# Runtime Warning necessary to the nonlinear solver\n"
   ]
  },
  {
   "cell_type": "markdown",
   "metadata": {},
   "source": [
    "# Reminder : Lotka - Volterra"
   ]
  },
  {
   "cell_type": "code",
   "execution_count": 3,
   "metadata": {},
   "outputs": [],
   "source": [
    "def LotkaVolterra(state,t):\n",
    "    x = state[0]\n",
    "    y = state[1]\n",
    "    \n",
    "    alpha = 0.1\n",
    "    beta =  0.1\n",
    "    sigma = 0.1\n",
    "    gamma = 0.1\n",
    "    \n",
    "    xd = x*(alpha - beta*y)\n",
    "    yd = -y*(gamma - sigma*x)\n",
    "    return [xd,yd]\n"
   ]
  },
  {
   "cell_type": "code",
   "execution_count": null,
   "metadata": {},
   "outputs": [],
   "source": []
  },
  {
   "cell_type": "markdown",
   "metadata": {},
   "source": [
    "# 1 - System Analysis\n",
    "<br> \n",
    "The straightforward way you will have been taught"
   ]
  },
  {
   "cell_type": "code",
   "execution_count": 4,
   "metadata": {},
   "outputs": [
    {
     "name": "stdout",
     "output_type": "stream",
     "text": [
      "First Point:[0. 0.]\n",
      "Is it a Steady Point:True\n",
      "The Jacobian at that point is \n",
      " [[ 1.  -0. ]\n",
      " [ 0.  -1.5]]\n",
      "Its Eigenvalues ares \n",
      " [ 1.  -1.5]\n",
      "--------------------------------------\n",
      "Second Point:[20. 10.]\n",
      "Is it a Steady Point:True\n",
      "The Jacobian at that point is \n",
      " [[ 0.   -2.  ]\n",
      " [ 0.75  0.  ]]\n",
      "Its Eigenvalues ares \n",
      " [0.+1.22474487j 0.-1.22474487j]\n"
     ]
    }
   ],
   "source": [
    "# Definition of parameters (outside)\n",
    "a = 1.\n",
    "b = 0.1\n",
    "c = 1.5\n",
    "d = 0.75\n",
    "\n",
    "t = np.linspace(0, 15,  1000)  \n",
    "\n",
    "# ------------------------------------------------------------------------\n",
    "\n",
    "def dX_dt(X, t=0):\n",
    "    \"\"\" growth rate of fox and rabbit populations. \"\"\"\n",
    "    return np.array([ a*X[0] -   b*X[0]*X[1] ,\n",
    "                     -c*X[1] + d*b*X[0]*X[1] ])\n",
    "\n",
    "\n",
    "def d2X_dt2(X, t=0):\n",
    "    \"\"\" Jacobian matrix evaluated in X. \"\"\"\n",
    "    return np.array([[a -b*X[1],   -b*X[0]     ],\n",
    "                  [b*d*X[1] ,   -c +b*d*X[0]] ])\n",
    "\n",
    "# ------------------------------------------------------------------------\n",
    "\n",
    "# Steady Points of System\n",
    "X_f0 = np.array([     0. ,  0.])\n",
    "X_f1 = np.array([ c/(d*b), a/b])\n",
    "# LV is great in the sense you can easily solve the equations for the steady points\n",
    "\n",
    "\n",
    "# Jacobian at Steady Points\n",
    "A_f0 = d2X_dt2(X_f0) \n",
    "A_f1 = d2X_dt2(X_f1) \n",
    "\n",
    "# Corresponding Eigenvalues\n",
    "Eig_f0 = np.linalg.eigvals(A_f0)\n",
    "Eig_f1 = np.linalg.eigvals(A_f1)\n",
    "\n",
    "# 2 Steady Points of the System\n",
    "print('First Point:{}'.format(X_f0))\n",
    "print('Is it a Steady Point:{}'.format(all(dX_dt(X_f0) == np.zeros(2) )))\n",
    "print('The Jacobian at that point is \\n {}'.format(A_f0))\n",
    "print('Its Eigenvalues ares \\n {}'.format(Eig_f0))\n",
    "print('--------------------------------------')\n",
    "print('Second Point:{}'.format(X_f1))\n",
    "print('Is it a Steady Point:{}'.format(all(dX_dt(X_f1) == np.zeros(2) )))\n",
    "print('The Jacobian at that point is \\n {}'.format(A_f1))\n",
    "print('Its Eigenvalues ares \\n {}'.format(Eig_f1))"
   ]
  },
  {
   "cell_type": "markdown",
   "metadata": {},
   "source": [
    "# 2 - Let's do it a bit differently\n",
    "<br> \n",
    "Q: What if I was laxy or steady points were hard to find (they are in general)\n",
    "A: Then we solve the steady state equations numerically!"
   ]
  },
  {
   "cell_type": "markdown",
   "metadata": {},
   "source": [
    "## We need to talk about seeding..."
   ]
  },
  {
   "cell_type": "code",
   "execution_count": 5,
   "metadata": {},
   "outputs": [
    {
     "name": "stdout",
     "output_type": "stream",
     "text": [
      "Algorithm with seed [20, 15] converges to [20. 10.]\n",
      "Algorithm with seed [10, 10] converges to [-1.97215226e-31 -4.93038066e-32]\n"
     ]
    }
   ],
   "source": [
    "# Rather than having the steady points given to us\n",
    "# We are going to find them ie solve the equation dX_dt(x)=0\n",
    "\n",
    "# We need to use a numerical solver\n",
    "# https://docs.scipy.org/doc/scipy/reference/optimize.html\n",
    "# https://docs.scipy.org/doc/scipy/reference/optimize.nonlin.html\n",
    "\n",
    "# Examples : \n",
    "seed = [20,15]\n",
    "x = optimize.broyden1(dX_dt, seed, f_tol=1e-20)\n",
    "print('Algorithm with seed {} converges to {}'.format(seed,x))\n",
    "\n",
    "seed = [10,10]\n",
    "y = optimize.broyden1(dX_dt, seed, f_tol=1e-20)\n",
    "print('Algorithm with seed {} converges to {}'.format(seed,y))\n",
    "\n",
    "# So the seed is important....."
   ]
  },
  {
   "cell_type": "markdown",
   "metadata": {},
   "source": [
    "## Grid Search\n",
    "<br>\n",
    "Coarse, brutal but works..."
   ]
  },
  {
   "cell_type": "code",
   "execution_count": 6,
   "metadata": {},
   "outputs": [
    {
     "name": "stdout",
     "output_type": "stream",
     "text": [
      "Output to Search (Unfiltered)\n",
      "------------------------------------------------\n",
      "Run 0 - Seed : (1.0, 1.0) - Solution : (-1.4187807813620962e-21, 1.3087000139890829e-22)\n",
      "Run 1 - Seed : (1.0, 1.96) - Solution : (5.724402934732672e-27, -2.6000156263329426e-28)\n",
      "Run 2 - Seed : (1.0, 2.92) - Solution : (8.876333086433998e-25, -9.244632516744233e-27)\n",
      "Run 3 - Seed : (1.0, 3.88) - Solution : (4.919490653715801e-22, 4.896708927997334e-24)\n",
      "Run 4 - Seed : (1.0, 4.84) - Solution : (5.530726210154222e-23, 1.3809942380727813e-24)\n",
      "Run 5 - Seed : (1.0, 5.8) - Solution : (1.4967214925752444e-24, 5.612752206587751e-26)\n",
      "Run 6 - Seed : (1.0, 6.76) - Solution : (1.1603174210074085e-26, 5.7188357934871775e-28)\n",
      "Run 7 - Seed : (1.0, 7.72) - Solution : (-1.1891602682251732e-28, -7.408528883854066e-30)\n",
      "Run 8 - Seed : (1.0, 8.68) - Solution : (2.743752278574471e-22, 2.198221265804277e-23)\n",
      "Run 9 - Seed : (1.0, 9.64) - Solution : (2.421901654049207e-26, 2.7288209362894927e-27)\n",
      "Run 10 - Seed : (1.0, 10.6) - Solution : (-8.431009665412867e-28, -1.779504078683837e-28)\n",
      "Run 11 - Seed : (1.0, 11.559999999999999) - Solution : (-1.0421692788664933e-22, 2.453690286251291e-22)\n",
      "Run 12 - Seed : (1.0, 12.52) - Solution : (6.05336911672443e-22, -8.633958986052704e-23)\n",
      "Run 13 - Seed : (1.0, 13.48) - Solution : (1.7646116448329305e-26, -1.1264735897439574e-27)\n",
      "Run 14 - Seed : (1.0, 14.44) - Solution : (1.260038822789145e-23, -4.6888815924461645e-25)\n",
      "Run 15 - Seed : (1.0, 15.399999999999999) - Solution : (2.6874290211398943e-24, -6.60406526422607e-26)\n",
      "Run 16 - Seed : (1.0, 16.36) - Solution : (1.1995980618407126e-23, -3.0346328280710553e-25)\n",
      "Run 17 - Seed : (1.0, 17.32) - Solution : (1.2481290773749643e-26, -1.6556143505693183e-28)\n",
      "Run 18 - Seed : (1.0, 18.28) - Solution : (-6.5894632130857594e-21, 7.48580201336331e-23)\n",
      "Run 19 - Seed : (1.0, 19.24) - Solution : (3.435727164882081e-25, -1.7854105300412387e-27)\n",
      "Run 20 - Seed : (1.0, 20.2) - Solution : (1.3133763782535968e-22, -4.8127130624136645e-25)\n",
      "Run 21 - Seed : (1.0, 21.16) - Solution : (-1.0570020922780386e-23, 1.142475487076431e-25)\n",
      "Run 22 - Seed : (1.0, 22.119999999999997) - Solution : (-5.233798920622273e-25, 6.1255320571938245e-27)\n",
      "Run 23 - Seed : (1.0, 23.08) - Solution : (4.716662498018791e-21, -6.164883227618965e-23)\n",
      "Run 24 - Seed : (1.0, 24.04) - Solution : (3.3280976910084137e-22, -4.966502758140986e-24)\n",
      "Run 25 - Seed : (1.0, 25.0) - Solution : (2.272296546952307e-22, -3.951392164678633e-24)\n",
      "Run 26 - Seed : (2.0, 1.0) - Solution : (-7.075257941697592e-23, 9.239169514960471e-24)\n",
      "Run 27 - Seed : (2.0, 1.96) - Solution : (4.132311544308456e-27, -3.9381600046039323e-28)\n",
      "Run 28 - Seed : (2.0, 2.92) - Solution : (1.135718495448279e-21, -2.2849049581398124e-23)\n",
      "Run 29 - Seed : (2.0, 3.88) - Solution : (-4.148442435993959e-21, 1.1499652051105755e-22)\n",
      "Run 30 - Seed : (2.0, 4.84) - Solution : (1.6097264666897872e-25, -2.0096036123754904e-26)\n",
      "Run 31 - Seed : (2.0, 5.8) - Solution : (-8.846553931521883e-26, -2.9209888336028233e-27)\n",
      "Run 32 - Seed : (2.0, 6.76) - Solution : (2.062697063985322e-22, 1.0750188408863602e-23)\n",
      "Run 33 - Seed : (2.0, 7.72) - Solution : (-1.2253839445189963e-25, -8.519438737304775e-27)\n",
      "Run 34 - Seed : (2.0, 8.68) - Solution : (2.0039706580367137e-22, 1.7960591437045717e-23)\n",
      "Run 35 - Seed : (2.0, 9.64) - Solution : (1.123755281062935e-26, 1.3266649300135148e-27)\n",
      "Run 36 - Seed : (2.0, 10.6) - Solution : (-4.308667305499351e-21, -7.409613499420825e-22)\n",
      "Run 37 - Seed : (2.0, 11.559999999999999) - Solution : (-3.400417595727028e-25, -1.182892882926024e-25)\n",
      "Run 38 - Seed : (2.0, 12.52) - Solution : (8.258226769310668e-22, -9.209600531456064e-22)\n",
      "Run 39 - Seed : (2.0, 13.48) - Solution : (5.521095651270093e-22, -1.017548378166283e-22)\n",
      "Run 40 - Seed : (2.0, 14.44) - Solution : (9.87062833585023e-26, -8.670443490918525e-27)\n",
      "Run 41 - Seed : (2.0, 15.399999999999999) - Solution : (7.554686214737906e-27, -4.093857951574866e-28)\n",
      "Run 42 - Seed : (2.0, 16.36) - Solution : (1.8722520586897206e-22, -1.2155901833935298e-23)\n",
      "Run 43 - Seed : (2.0, 17.32) - Solution : (3.918612969625439e-24, -6.694927626125603e-26)\n",
      "Run 44 - Seed : (2.0, 18.28) - Solution : (5.746292267661158e-23, -1.226537151189982e-24)\n",
      "Run 45 - Seed : (2.0, 19.24) - Solution : (4.548906857269508e-21, -4.600731802753833e-23)\n",
      "Run 46 - Seed : (2.0, 20.2) - Solution : (1.2510114602409207e-27, -3.074044944100905e-29)\n",
      "Run 47 - Seed : (2.0, 21.16) - Solution : (1.9229558126261413e-26, -4.578085625112483e-28)\n",
      "Run 48 - Seed : (2.0, 22.119999999999997) - Solution : (2.1491424564174214e-28, -5.533737739744551e-30)\n",
      "Run 49 - Seed : (2.0, 23.08) - Solution : (-8.341135599196307e-22, 2.425746007683801e-23)\n",
      "Run 50 - Seed : (2.0, 24.04) - Solution : (-3.5131062679161427e-23, 1.1969176681841706e-24)\n",
      "Run 51 - Seed : (2.0, 25.0) - Solution : (-7.843178704730609e-24, 3.277612260000099e-25)\n",
      "Run 52 - Seed : (3.0, 1.0) - Solution : (2.412393266654359e-25, -5.1151494075965787e-26)\n",
      "Run 53 - Seed : (3.0, 1.96) - Solution : (9.580403083123591e-23, -1.4441486105853984e-24)\n",
      "Run 54 - Seed : (3.0, 2.92) - Solution : (3.810651933638336e-24, 2.210212574640492e-24)\n",
      "Run 55 - Seed : (3.0, 3.88) - Solution : (1.590147356810766e-21, 2.030966217369882e-22)\n",
      "Run 56 - Seed : (3.0, 4.84) - Solution : (1.5586157748480295e-25, 2.035298256001945e-26)\n",
      "Run 57 - Seed : (3.0, 5.8) - Solution : (4.842020451175512e-23, 3.807947534246058e-25)\n",
      "Run 58 - Seed : (3.0, 6.76) - Solution : (-1.4933546386198e-21, -5.042131442882792e-23)\n",
      "Run 59 - Seed : (3.0, 7.72) - Solution : (-1.2008152209693575e-21, 5.132915466871169e-22)\n",
      "Run 60 - Seed : (3.0, 8.68) - Solution : (-3.268118280517258e-27, -2.961307144058174e-28)\n",
      "Run 61 - Seed : (3.0, 9.64) - Solution : (1.0307859468771358e-21, 1.2322340801148714e-22)\n",
      "Run 62 - Seed : (3.0, 10.6) - Solution : (-4.939409450228754e-21, -7.993440331982823e-22)\n",
      "Run 63 - Seed : (3.0, 11.559999999999999) - Solution : (-3.1131612721987775e-25, -8.188165121494435e-26)\n",
      "Run 64 - Seed : (3.0, 12.52) - Solution : (4.2675982898255873e-26, 3.093131514110303e-26)\n",
      "Run 65 - Seed : (3.0, 13.48) - Solution : (4.775623713198307e-21, -2.276760849937969e-21)\n",
      "Run 66 - Seed : (3.0, 14.44) - Solution : (2.0707370719620193e-22, -3.298024783281011e-23)\n",
      "Run 67 - Seed : (3.0, 15.399999999999999) - Solution : (5.693848821552639e-22, -5.194437161747864e-23)\n",
      "Run 68 - Seed : (3.0, 16.36) - Solution : (-6.349734639267805e-23, 8.286159110448213e-24)\n",
      "Run 69 - Seed : (3.0, 17.32) - Solution : (1.1273637455364565e-27, 2.8041896889170973e-28)\n",
      "Run 70 - Seed : (3.0, 18.28) - Solution : (4.633286409203607e-23, -7.556802868080239e-25)\n",
      "Run 71 - Seed : (3.0, 19.24) - Solution : (2.5110293482748e-21, -3.7346147865227903e-23)\n",
      "Run 72 - Seed : (3.0, 20.2) - Solution : (2.034428086509828e-27, -9.48178690184568e-29)\n",
      "Run 73 - Seed : (3.0, 21.16) - Solution : (1.0795688556185045e-23, -4.395264200367739e-25)\n",
      "Run 74 - Seed : (3.0, 22.119999999999997) - Solution : (2.2381077963402912e-25, -9.596897164708935e-27)\n",
      "Run 75 - Seed : (3.0, 23.08) - Solution : (5.247648693316181e-26, -2.5519969371371065e-27)\n",
      "Run 76 - Seed : (3.0, 24.04) - Solution : (-8.081049939943559e-21, 4.752544151954227e-22)\n",
      "Run 77 - Seed : (3.0, 25.0) - Solution : (-8.982122530128287e-22, 7.015581286983471e-23)\n",
      "Run 78 - Seed : (4.0, 1.0) - Solution : (1.6571870314326682e-24, 3.2348790360263907e-24)\n",
      "Run 79 - Seed : (4.0, 1.96) - Solution : (1.353500670603628e-24, -8.138896744806861e-26)\n",
      "Run 80 - Seed : (4.0, 2.92) - Solution : (9.94679963527004e-21, 3.94303153810686e-21)\n",
      "Run 81 - Seed : (4.0, 3.88) - Solution : (8.368653048474104e-22, 3.629452527511644e-22)\n",
      "Run 82 - Seed : (4.0, 4.84) - Solution : (3.6876474479500464e-26, 2.2410793122371315e-26)\n",
      "Run 83 - Seed : (4.0, 5.8) - Solution : (5.894970711870497e-23, 2.665004061040857e-24)\n",
      "Run 84 - Seed : (4.0, 6.76) - Solution : (5.627632124301431e-26, 1.867674580186699e-27)\n",
      "Run 85 - Seed : (4.0, 7.72) - Solution : (-1.5497981435273178e-22, -7.759314426769646e-24)\n",
      "Run 86 - Seed : (4.0, 8.68) - Solution : (-1.515415596106796e-21, -9.230469510698244e-23)\n",
      "Run 87 - Seed : (4.0, 9.64) - Solution : (3.461732938661761e-27, 2.4570002891576636e-28)\n",
      "Run 88 - Seed : (4.0, 10.6) - Solution : (-3.757570095001365e-26, -8.888406098476243e-27)\n",
      "Run 89 - Seed : (4.0, 11.559999999999999) - Solution : (1.7237739959509222e-23, -3.532397516866085e-22)\n",
      "Run 90 - Seed : (4.0, 12.52) - Solution : (3.405758825467083e-23, 1.3605738779722767e-23)\n",
      "Run 91 - Seed : (4.0, 13.48) - Solution : (2.6988072646898347e-22, 5.416360302585608e-21)\n",
      "Run 92 - Seed : (4.0, 14.44) - Solution : (8.269107532953281e-22, -1.929118684101296e-22)\n",
      "Run 93 - Seed : (4.0, 15.399999999999999) - Solution : (-1.391418642469273e-23, 1.924943493566039e-24)\n",
      "Run 94 - Seed : (4.0, 16.36) - Solution : (-6.392146268171115e-22, 1.3202227768337487e-22)\n",
      "Run 95 - Seed : (4.0, 17.32) - Solution : (6.555640004297663e-25, 4.064742688066481e-25)\n",
      "Run 96 - Seed : (4.0, 18.28) - Solution : (-2.4236130402126143e-26, 5.984050332390888e-28)\n",
      "Run 97 - Seed : (4.0, 19.24) - Solution : (1.340650451862701e-23, 6.077109805101554e-26)\n",
      "Run 98 - Seed : (4.0, 20.2) - Solution : (8.005586462506222e-25, 8.894106507814617e-25)\n",
      "Run 99 - Seed : (4.0, 21.16) - Solution : (1.326054745248695e-22, -8.980364910252412e-24)\n"
     ]
    }
   ],
   "source": [
    "# We therefore need to do a grid search \n",
    "# say over [0,25]*[0,25] (the flow indicates we do not need to go further)\n",
    "intervalX = np.linspace(1, 25, 25) \n",
    "intervalY = np.linspace(1, 25, 26) \n",
    "\n",
    "solutions = [{\"solution\":tuple(optimize.broyden1(dX_dt, [x,y], f_tol=1e-20)),\"seed\":(x,y)}\n",
    "             for x in intervalX for y in intervalY]\n",
    "\n",
    "print(f\"Output to Search (Unfiltered)\\n------------------------------------------------\")\n",
    "for i,solution in enumerate(solutions[0:100]): \n",
    "    print(f\"Run {i} - Seed : {solution['seed']} - Solution : {solution['solution']}\")    \n",
    "\n",
    "# You can make the output prettier but it is not the point here"
   ]
  },
  {
   "cell_type": "code",
   "execution_count": null,
   "metadata": {},
   "outputs": [],
   "source": []
  },
  {
   "cell_type": "markdown",
   "metadata": {},
   "source": [
    "### The grid search returns way more different candidates that we expected!!!\n",
    "1 - we convert to a set of solutions in order to remove the duplicates if there are any\n",
    "NB: if you use set, you need to convert the arrays/lists to tuples (hashable objects)\n",
    "\n",
    "2 - of course the various streams will not have converged exactly to the same solutions \n",
    "we can see a lot of spurious steady points around (0,0), which is to be expected as the point is not stable\n",
    "=> first step :  round the values returned / the solvers !!!!\n"
   ]
  },
  {
   "cell_type": "code",
   "execution_count": 7,
   "metadata": {},
   "outputs": [
    {
     "name": "stdout",
     "output_type": "stream",
     "text": [
      "Output to Search (Filtered)\n",
      "------------------------------------------------\n",
      "Solution 1 - - Solution : (20.0, 10.0)\n",
      "Solution 2 - - Solution : (-0.0, 0.0)\n"
     ]
    }
   ],
   "source": [
    "# Step 1 : round the solutions\n",
    "\n",
    "solutions = [tuple(np.around(optimize.broyden1(dX_dt, [x,y], f_tol=1e-20),decimals=10))\n",
    "                        for x in intervalX for y in intervalY]\n",
    "# 10 decimals should do\n",
    "\n",
    "#Step 2 : Convert the list into a set\n",
    "solutions = list(set(solutions))\n",
    "\n",
    "print(f\"Output to Search (Filtered)\\n------------------------------------------------\")\n",
    "for i,solution in enumerate(solutions[0:100]): \n",
    "    print(f\"Solution {i+1} - - Solution : {solution}\")   \n",
    "    \n",
    "# Much more civilised\n"
   ]
  },
  {
   "cell_type": "code",
   "execution_count": null,
   "metadata": {},
   "outputs": [],
   "source": []
  },
  {
   "cell_type": "markdown",
   "metadata": {},
   "source": [
    "# 3 - For your Eyes Only\n",
    "<br>\n",
    "Q: What if I was lazy OR hopeless at derivating even simple functions?\n",
    "Or more generally, what if I wanted to automate the whole process?\n",
    "\n",
    "A: we use symbolic calculus..."
   ]
  },
  {
   "cell_type": "code",
   "execution_count": 8,
   "metadata": {},
   "outputs": [
    {
     "data": {
      "image/png": "[encoded data removed]",
      "text/plain": [
       "<Figure size 432x288 with 1 Axes>"
      ]
     },
     "metadata": {
      "needs_background": "light"
     },
     "output_type": "display_data"
    }
   ],
   "source": [
    "# We need to install a library called autograd (from github)\n",
    "# https://github.com/HIPS/autograd\n",
    "\n",
    "import autograd\n",
    "import autograd.numpy as np                 # important it seems....\n",
    "from autograd import elementwise_grad as egrad  # for functions that vectorize over inputs\n",
    "\n",
    "def tanh(x):                 # Define a function\n",
    "    y = np.exp(-2.0 * x)\n",
    "    return (1.0 - y) / (1.0 + y)\n",
    "\n",
    "x = np.linspace(-7, 7, 200)\n",
    "plt.plot(x, tanh(x),\n",
    "          x, egrad(tanh)(x),                                     # first  derivative\n",
    "          x, egrad(egrad(tanh))(x))                              # second  derivative\n",
    "plt.show()"
   ]
  },
  {
   "cell_type": "markdown",
   "metadata": {},
   "source": [
    "Why is it interesting?\n",
    "Because it means we need not calculate the Jacobian explicitly (which can be tricky in high dimensions)"
   ]
  },
  {
   "cell_type": "markdown",
   "metadata": {},
   "source": [
    "## Method 1\n",
    "After : https://stackoverflow.com/questions/54488875/improve-performance-of-autograd-jacobian\n",
    "Basically, we compute the matrix one column at a time"
   ]
  },
  {
   "cell_type": "code",
   "execution_count": 9,
   "metadata": {},
   "outputs": [
    {
     "name": "stdout",
     "output_type": "stream",
     "text": [
      "At steady point (20.0, 10.0)\n",
      "The Jacobian is \n",
      " [[ 0.00000000e+00 -2.00000000e+00]\n",
      " [ 7.50000000e-01  2.22044605e-16]]\n",
      "Its Eigenvalues ares \n",
      " [1.11022302e-16+1.22474487j 1.11022302e-16-1.22474487j]\n",
      "-------------------------\n",
      "At steady point (-0.0, 0.0)\n",
      "The Jacobian is \n",
      " [[ 1.   0. ]\n",
      " [ 0.  -1.5]]\n",
      "Its Eigenvalues ares \n",
      " [ 1.  -1.5]\n",
      "-------------------------\n"
     ]
    }
   ],
   "source": [
    "import autograd.numpy as np\n",
    "from autograd.differential_operators import make_jvp_reversemode\n",
    "\n",
    "def LV(coord):\n",
    "    X,Y = coord\n",
    "    \"\"\" growth rate of fox and rabbit populations. \"\"\"\n",
    "    return np.array([ a*X -   b*X*Y ,\n",
    "                     -c*Y + d*b*X*Y ])\n",
    "\n",
    "# We want more than columsn, we want the whole matrix...\n",
    "def jacobianAtPoint(f,point):\n",
    "    gradient_at_mle = make_jvp_reversemode(f)(point)\n",
    "    J = np.zeros((2,2))\n",
    "    for i,basis in enumerate([np.array([1, 0]), np.array([0, 1])]):\n",
    "        col_of_jacobian = gradient_at_mle(basis)\n",
    "        J[:,i] = col_of_jacobian\n",
    "    return J\n",
    "\n",
    "all_unique_solutions = tuple(set(solutions))\n",
    "jacobians_at_steady_points = (jacobianAtPoint(LV,np.array(x,dtype=\"float\")) for x in all_unique_solutions)\n",
    "# NB: extremeley important to make sure x is cast properly (autograd is not tolerant)\n",
    "\n",
    "for x,j in zip(all_unique_solutions,jacobians_at_steady_points):\n",
    "    print('At steady point {}'.format(x))\n",
    "    print('The Jacobian is \\n {}'.format(j))\n",
    "    print('Its Eigenvalues ares \\n {}'.format(np.linalg.eigvals(j)))    \n",
    "    print('-------------------------')"
   ]
  },
  {
   "cell_type": "markdown",
   "metadata": {},
   "source": [
    "## Method 2\n",
    "Use the Jacobian module of Autograd\n",
    "(Allegedly slower... for NN)"
   ]
  },
  {
   "cell_type": "code",
   "execution_count": 10,
   "metadata": {},
   "outputs": [
    {
     "name": "stdout",
     "output_type": "stream",
     "text": [
      "At steady point (20.0, 10.0)\n",
      "The Jacobian is \n",
      " [[ 0.00000000e+00 -2.00000000e+00]\n",
      " [ 7.50000000e-01  2.22044605e-16]]\n",
      "Its Eigenvalues ares \n",
      " [1.11022302e-16+1.22474487j 1.11022302e-16-1.22474487j]\n",
      "-------------------------\n",
      "At steady point (-0.0, 0.0)\n",
      "The Jacobian is \n",
      " [[ 1.   0. ]\n",
      " [ 0.  -1.5]]\n",
      "Its Eigenvalues ares \n",
      " [ 1.  -1.5]\n",
      "-------------------------\n"
     ]
    }
   ],
   "source": [
    "import autograd.numpy as np\n",
    "from autograd import jacobian\n",
    "\n",
    "\n",
    "jacobians_at_steady_points = (jacobian(LV)(np.array(x,dtype=\"float\")) for x in all_unique_solutions)\n",
    "# NB: extremeley important to make sure x is cast properly (autograd is not tolerant)\n",
    "\n",
    "for x,j in zip(all_unique_solutions,jacobians_at_steady_points):\n",
    "    print('At steady point {}'.format(x))\n",
    "    print('The Jacobian is \\n {}'.format(j))\n",
    "    print('Its Eigenvalues ares \\n {}'.format(np.linalg.eigvals(j)))    \n",
    "    print('-------------------------')"
   ]
  },
  {
   "cell_type": "code",
   "execution_count": null,
   "metadata": {},
   "outputs": [],
   "source": []
  }
 ],
 "metadata": {
  "kernelspec": {
   "display_name": "Python 3",
   "language": "python",
   "name": "python3"
  },
  "language_info": {
   "codemirror_mode": {
    "name": "ipython",
    "version": 3
   },
   "file_extension": ".py",
   "mimetype": "text/x-python",
   "name": "python",
   "nbconvert_exporter": "python",
   "pygments_lexer": "ipython3",
   "version": "3.7.3"
  }
 },
 "nbformat": 4,
 "nbformat_minor": 2
}
